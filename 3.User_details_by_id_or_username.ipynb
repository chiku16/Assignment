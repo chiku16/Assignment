{
  "nbformat": 4,
  "nbformat_minor": 0,
  "metadata": {
    "colab": {
      "provenance": []
    },
    "kernelspec": {
      "name": "python3",
      "display_name": "Python 3"
    },
    "language_info": {
      "name": "python"
    }
  },
  "cells": [
    {
      "cell_type": "code",
      "execution_count": 1,
      "metadata": {
        "colab": {
          "base_uri": "https://localhost:8080/"
        },
        "id": "6a9FfcvZHIqF",
        "outputId": "93cbd231-9bc5-44d1-95d7-7cff2ac188ce"
      },
      "outputs": [
        {
          "output_type": "stream",
          "name": "stdout",
          "text": [
            "Enter ID or username of user: 1326\n",
            "ID: 1326\n",
            "First Name: Pat\n",
            "Last Name: Brakus\n",
            "Username: pat.brakus\n",
            "Email: pat.brakus@email.com\n",
            "Avatar: https://robohash.org/quasinumquammodi.png?size=300x300&set=set1\n",
            "Gender: Agender\n",
            "Date of Birth: 1989-01-26\n",
            "Address: {'city': 'Tonyatown', 'street_name': 'Dario Mall', 'street_address': '654 Wisoky Walks', 'zip_code': '65853-5177', 'state': 'Vermont', 'country': 'United States', 'coordinates': {'lat': 19.32199779853977, 'lng': 133.9354389612614}}\n",
            "Age: 34\n"
          ]
        }
      ],
      "source": [
        "import csv\n",
        "import datetime\n",
        "\n",
        "with open(\"users.csv\", mode=\"r\") as file:\n",
        "    reader = csv.reader(file)\n",
        "    next(reader)\n",
        "    user_input = input(\"Enter ID or username of user: \")\n",
        "    for row in reader:\n",
        "        if row[0] == user_input or row[3] == user_input:\n",
        "            dob = datetime.date.fromisoformat(row[7])\n",
        "            age = datetime.date.today().year - dob.year\n",
        "            print(f\"ID: {row[0]}\\nFirst Name: {row[1]}\\nLast Name: {row[2]}\\nUsername: {row[3]}\\nEmail: {row[4]}\\nAvatar: {row[5]}\\nGender: {row[6]}\\nDate of Birth: {row[7]}\\nAddress: {row[8]}\\nAge: {age}\")\n",
        "            break\n",
        "    else:\n",
        "        print(\"User not found.\")"
      ]
    }
  ]
}