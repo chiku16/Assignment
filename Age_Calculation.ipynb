{
  "nbformat": 4,
  "nbformat_minor": 0,
  "metadata": {
    "colab": {
      "provenance": []
    },
    "kernelspec": {
      "name": "python3",
      "display_name": "Python 3"
    },
    "language_info": {
      "name": "python"
    }
  },
  "cells": [
    {
      "cell_type": "code",
      "execution_count": 2,
      "metadata": {
        "colab": {
          "base_uri": "https://localhost:8080/"
        },
        "id": "0MeL4XmOGhgS",
        "outputId": "f38f4243-0eaa-47a3-82af-ecaf6ff2da83"
      },
      "outputs": [
        {
          "output_type": "stream",
          "name": "stdout",
          "text": [
            "Sulema Von is 19 years old.\n",
            "Thomasina Crona is 26 years old.\n",
            "Tamica Anderson is 45 years old.\n",
            "Pat Brakus is 34 years old.\n",
            "Royal Walker is 37 years old.\n",
            "Wyatt Wuckert is 40 years old.\n",
            "Augusta Senger is 51 years old.\n",
            "Laverne Yundt is 26 years old.\n",
            "Jarrod Bernhard is 52 years old.\n",
            "Domingo Schultz is 20 years old.\n"
          ]
        }
      ],
      "source": [
        "import csv\n",
        "import datetime\n",
        "\n",
        "with open(\"users.csv\", mode=\"r\") as file:\n",
        "    reader = csv.reader(file)\n",
        "    next(reader)  # Skip the header row\n",
        "    for row in reader:\n",
        "        dob = datetime.date.fromisoformat(row[7])\n",
        "        age = datetime.date.today().year - dob.year\n",
        "        print(f\"{row[1]} {row[2]} is {age} years old.\")"
      ]
    }
  ]
}